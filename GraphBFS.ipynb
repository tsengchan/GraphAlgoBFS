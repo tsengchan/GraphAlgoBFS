{
 "cells": [
  {
   "cell_type": "code",
   "execution_count": 7,
   "metadata": {},
   "outputs": [],
   "source": [
    "#Graph Algorithm\n",
    "#breadth first search\n",
    "#2/5/2020\n",
    "\n",
    "from collections import deque\n",
    "import networkx as nx\n",
    "from matplotlib.pyplot import figure\n",
    "import matplotlib.pyplot as plt\n",
    "\n",
    "\n",
    "graph1 = {'V': set(['R']),\n",
    "         'R': set(['V', 'S']),\n",
    "         'S': set(['R', 'W']),\n",
    "         'W': set(['S','T','X']),\n",
    "         'T': set(['W', 'X','U']),\n",
    "         'X': set(['W', 'T','U','Y']),\n",
    "         'U': set(['T','X','Y']),\n",
    "         'Y': set(['X', 'U'])        \n",
    "        }\n",
    "\n",
    "inf = float('inf')\n",
    "\n",
    "attrs1 = {'V':{'color': 'white', 'distance': inf,'parent': 'nothing'},\n",
    "         'R': {'color': 'white', 'distance': inf,'parent': 'nothing'},\n",
    "         'S': {'color': 'white', 'distance': inf,'parent': 'nothing'},\n",
    "         'W': {'color': 'white', 'distance': inf,'parent': 'nothing'},\n",
    "         'T': {'color': 'white', 'distance': inf,'parent': 'nothing'},\n",
    "         'X': {'color': 'white', 'distance': inf,'parent': 'nothing'},\n",
    "         'U': {'color': 'white', 'distance': inf,'parent': 'nothing'},\n",
    "         'Y': {'color': 'white', 'distance': inf,'parent': 'nothing'}        \n",
    "        }\n",
    "\n",
    "G1 = nx.Graph(graph1)\n",
    "\n",
    "nx.set_node_attributes(G1,attrs1)\n",
    "\n",
    "\n",
    "\n",
    "\n",
    "\n",
    "def breadth(graph,start):\n",
    "\n",
    "    graph.nodes[start]['color']='gray'\n",
    "    graph.nodes[start]['distance']=0\n",
    "    graph.nodes[start]['parent']=None\n",
    "\n",
    "    enqueue = deque(start)\n",
    "    while enqueue: \n",
    "        u = enqueue.pop()\n",
    "        print(\"u: %s\" %u)\n",
    "        \n",
    "        \n",
    "        for index,v in enumerate(nx.all_neighbors(graph,u)):\n",
    "\n",
    "            print(\"v: %s\" %v)\n",
    "            if graph.nodes[v]['color']=='white':\n",
    "                \n",
    "                graph.nodes[v]['color']='gray'\n",
    "                graph.nodes[v]['distance']=graph.nodes[u]['distance']+1\n",
    "                print(\"node %s color %s\" %(v,graph.nodes[v]['color']) ) \n",
    "\n",
    "\n",
    "                enqueue.appendleft(v)\n",
    "                \n",
    "\n",
    "           \n",
    "            \n",
    "            graph.nodes[u]['color']='black'\n",
    "            print(\"stop\")\n",
    "                \n",
    "\n",
    "    \n",
    "    return graph\n",
    "\n"
   ]
  },
  {
   "cell_type": "code",
   "execution_count": 4,
   "metadata": {},
   "outputs": [
    {
     "name": "stderr",
     "output_type": "stream",
     "text": [
      "/home/mars2025/anaconda3/lib/python3.7/site-packages/networkx/drawing/nx_pylab.py:579: MatplotlibDeprecationWarning: \n",
      "The iterable function was deprecated in Matplotlib 3.1 and will be removed in 3.3. Use np.iterable instead.\n",
      "  if not cb.iterable(width):\n"
     ]
    },
    {
     "data": {
      "image/png": "[encoded data removed]",
      "text/plain": [
       "<Figure size 640x480 with 1 Axes>"
      ]
     },
     "metadata": {},
     "output_type": "display_data"
    }
   ],
   "source": [
    "figure(num=None, figsize=(8, 6), dpi=80, facecolor='w', edgecolor='k')\n",
    "nx.draw_networkx(G1)"
   ]
  },
  {
   "cell_type": "code",
   "execution_count": 8,
   "metadata": {},
   "outputs": [
    {
     "name": "stdout",
     "output_type": "stream",
     "text": [
      "u: V\n",
      "v: R\n",
      "node R color gray\n",
      "stop\n",
      "u: R\n",
      "v: V\n",
      "stop\n",
      "v: S\n",
      "node S color gray\n",
      "stop\n",
      "u: S\n",
      "v: R\n",
      "stop\n",
      "v: W\n",
      "node W color gray\n",
      "stop\n",
      "u: W\n",
      "v: S\n",
      "stop\n",
      "v: X\n",
      "node X color gray\n",
      "stop\n",
      "v: T\n",
      "node T color gray\n",
      "stop\n",
      "u: X\n",
      "v: W\n",
      "stop\n",
      "v: T\n",
      "stop\n",
      "v: Y\n",
      "node Y color gray\n",
      "stop\n",
      "v: U\n",
      "node U color gray\n",
      "stop\n",
      "u: T\n",
      "v: W\n",
      "stop\n",
      "v: U\n",
      "stop\n",
      "v: X\n",
      "stop\n",
      "u: Y\n",
      "v: X\n",
      "stop\n",
      "v: U\n",
      "stop\n",
      "u: U\n",
      "v: T\n",
      "stop\n",
      "v: X\n",
      "stop\n",
      "v: Y\n",
      "stop\n"
     ]
    }
   ],
   "source": [
    "G1 = nx.Graph(graph1)\n",
    "nx.set_node_attributes(G1,attrs1)\n",
    "xyz = breadth(G1,'V')"
   ]
  },
  {
   "cell_type": "code",
   "execution_count": null,
   "metadata": {},
   "outputs": [],
   "source": []
  }
 ],
 "metadata": {
  "kernelspec": {
   "display_name": "Python 3",
   "language": "python",
   "name": "python3"
  },
  "language_info": {
   "codemirror_mode": {
    "name": "ipython",
    "version": 3
   },
   "file_extension": ".py",
   "mimetype": "text/x-python",
   "name": "python",
   "nbconvert_exporter": "python",
   "pygments_lexer": "ipython3",
   "version": "3.7.4"
  }
 },
 "nbformat": 4,
 "nbformat_minor": 2
}
